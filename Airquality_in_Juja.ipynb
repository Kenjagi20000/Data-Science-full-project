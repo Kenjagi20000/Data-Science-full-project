{
  "nbformat": 4,
  "nbformat_minor": 0,
  "metadata": {
    "colab": {
      "private_outputs": true,
      "provenance": [],
      "toc_visible": true,
      "authorship_tag": "ABX9TyPieeZIvy3TxCJaHXmK4Y7F",
      "include_colab_link": true
    },
    "kernelspec": {
      "name": "python3",
      "display_name": "Python 3"
    },
    "language_info": {
      "name": "python"
    }
  },
  "cells": [
    {
      "cell_type": "markdown",
      "metadata": {
        "id": "view-in-github",
        "colab_type": "text"
      },
      "source": [
        "<a href=\"https://colab.research.google.com/github/Kenjagi20000/Data-Science-full-project/blob/main/Airquality_in_Juja.ipynb\" target=\"_parent\"><img src=\"https://colab.research.google.com/assets/colab-badge.svg\" alt=\"Open In Colab\"/></a>"
      ]
    },
    {
      "cell_type": "markdown",
      "source": [
        "**IMPORTANT CODES**"
      ],
      "metadata": {
        "id": "Agb9-RACUQLF"
      }
    },
    {
      "cell_type": "code",
      "execution_count": null,
      "metadata": {
        "id": "Ma0dDf59SRDE"
      },
      "outputs": [],
      "source": [
        "import pandas as pd\n",
        "import numpy as np\n",
        "import matplotlib.pyplot as plt\n",
        "import seaborn as sns\n",
        "import math\n",
        "import plotly.express as px\n",
        "# model codes\n",
        "from statsmodels.graphics.tsaplots import plot_acf, plot_pacf\n",
        "from statsmodels.tsa.ar_model import AutoReg\n",
        "from sklearn.metrics import mean_absolute_error\n",
        "from statsmodels.tsa.api import AutoReg"
      ]
    },
    {
      "cell_type": "code",
      "source": [
        "def wrangle(filepath):\n",
        "    # reading the csv file\n",
        "    df = pd.read_csv(filepath,\n",
        "                     delimiter = \";\",\n",
        "                     index_col = \"timestamp\")\n",
        "    # changing timestamp object to datetime64\n",
        "    df.index = pd.to_datetime(df.index)\n",
        "    # localizing timestamp\n",
        "    df.index = df.index.tz_convert(\"Africa/Nairobi\")\n",
        "    # setting frequency\n",
        "    df.index = df.index.to_period(\"T\")\n",
        "    # subsetting `p2` observations only\n",
        "    df = df[df[\"value_type\"] == \"P2\"]\n",
        "    # return\n",
        "    return df"
      ],
      "metadata": {
        "id": "M4gwgT82YV3g"
      },
      "execution_count": null,
      "outputs": []
    },
    {
      "cell_type": "code",
      "source": [
        "df = wrangle(\"/content/tmpfajv_dqd.csv\")\n",
        "df.index[:3]"
      ],
      "metadata": {
        "id": "ulQQ1fcAWBEa"
      },
      "execution_count": null,
      "outputs": []
    },
    {
      "cell_type": "markdown",
      "source": [
        "This data set contains PM (particulate matter), temperature, and humidity readings taken with low-cost sensors. These sensors measure the concentration of PM in the air, including particles with diameters less than or equal to 1 micrometer (PM1), 2.5 micrometers (PM2.5), and particles with diameters less than or equal to 10 micrometers (PM10). The data set includes information on the sensor type, date, time, and location of the readings, as well as the sensor’s specific measurement values for Temperature (C), Humidity (%), PM1, PM2.5, and PM10. The data set is ideal for researchers and individuals interested in studying air quality and low-cost sensors in PM measurement. The dataset is stored in CSV format and can be opened using editors like Microsoft Excel, Google Sheets, LibreOffice Calc, etc. Note that P0 in the data represents PM1, P2 represents PM2.5, and P1 represents PM10"
      ],
      "metadata": {
        "id": "CsDFAWH5YDgp"
      }
    },
    {
      "cell_type": "code",
      "source": [
        "df.head()"
      ],
      "metadata": {
        "id": "gLovunqzYGeX"
      },
      "execution_count": null,
      "outputs": []
    },
    {
      "cell_type": "code",
      "source": [
        "# creating a boxplot for [p2] items\n",
        "fig, ax = plt.subplots(figsize = (15,6))\n",
        "df[\"value\"].plot(kind = \"box\",vert = False,\n",
        "                 title = \"P2 values box plot\",\n",
        "                 ax = ax);"
      ],
      "metadata": {
        "id": "1OWDnZCTZVLA"
      },
      "execution_count": null,
      "outputs": []
    },
    {
      "cell_type": "markdown",
      "source": [
        "The P2 values seems to not have outliers and so we are good to go."
      ],
      "metadata": {
        "id": "WvQX4ue9es8b"
      }
    },
    {
      "cell_type": "code",
      "source": [
        "# timeseries plot\n",
        "fig, ax = plt.subplots(figsize = (15,6))\n",
        "df[\"value\"].plot(title = \"Time series plot for the P2 values\",\n",
        "                 ax = ax);"
      ],
      "metadata": {
        "id": "V0uZyvB5d0Ft"
      },
      "execution_count": null,
      "outputs": []
    },
    {
      "cell_type": "markdown",
      "source": [
        "The graph is giving us time series from 9.15pm all the way to 10.35pm in juja"
      ],
      "metadata": {
        "id": "WT1qbnwsgGHt"
      }
    },
    {
      "cell_type": "code",
      "source": [
        "# resampling to know more\n",
        "resamp = df[\"value\"].resample(\"H\").mean().to_frame()\n",
        "fig,ax = plt.subplots(figsize = (15,6))\n",
        "resamp.plot(title  = \"One hour resampled plot\", ax = ax);"
      ],
      "metadata": {
        "id": "YkbuZTkgfK7n"
      },
      "execution_count": null,
      "outputs": []
    },
    {
      "cell_type": "code",
      "source": [
        "rolling = df[\"value\"].rolling(12).mean()\n",
        "fig, ax = plt.subplots(figsize = (15,6))\n",
        "fig = rolling.plot(title = \"12 rolling averange plot\",\n",
        "                   ylabel = \"P2.5\",\n",
        "                   ax = ax);\n",
        "plt.show()"
      ],
      "metadata": {
        "id": "JYwIIPxNgaE7"
      },
      "execution_count": null,
      "outputs": []
    },
    {
      "cell_type": "markdown",
      "source": [
        "Creating a lag of shift one"
      ],
      "metadata": {
        "id": "HFQufcjIjUSG"
      }
    },
    {
      "cell_type": "code",
      "source": [
        "df[\"L1\"] = df[\"value\"].shift(1)\n",
        "df[[\"value\",\"L1\"]].corr()"
      ],
      "metadata": {
        "id": "XsCGS2yOhOh-"
      },
      "execution_count": null,
      "outputs": []
    },
    {
      "cell_type": "markdown",
      "source": [
        "There is a very high positive correlation of 0.97. This shows that there is a higher relationship between the previous readings and the current ones."
      ],
      "metadata": {
        "id": "NlpslJ3qld4m"
      }
    },
    {
      "cell_type": "code",
      "source": [
        "# creating a scatter plot of the two plots\n",
        "fig, ax = plt.subplots(figsize = (15,6))\n",
        "ax.scatter(x = df[\"L1\"],y = df[\"value\"], label = \"Scatter\")\n",
        "ax.plot([5,16],[5,16],linestyle = \"dashdot\",color = \"orange\", label = \"Line\")\n",
        "ax.set_xlabel(\"Lag shift of 1\")\n",
        "ax.set_ylabel(\"Value[P2.5]\")\n",
        "ax.set_title(\"correlation between P2.5 values and Lag 1\")\n",
        "ax.legend()\n",
        "plt.show()"
      ],
      "metadata": {
        "id": "hn2oKn3YllkW"
      },
      "execution_count": null,
      "outputs": []
    },
    {
      "cell_type": "code",
      "source": [
        "# acf plot\n",
        "fig, ax = plt.subplots(figsize = (15,6))\n",
        "plot_acf(df[\"value\"],ax = ax)\n",
        "plt.show();"
      ],
      "metadata": {
        "id": "refDE2GMnf4q"
      },
      "execution_count": null,
      "outputs": []
    },
    {
      "cell_type": "markdown",
      "source": [
        "As we can see, we a gradually decresing autocorrelation indicating that we can apply AR model, let us see a partial autocorrelation to validate our findings"
      ],
      "metadata": {
        "id": "Difn4bRUrug1"
      }
    },
    {
      "cell_type": "code",
      "source": [
        "fig, ax = plt.subplots(figsize = (15,6))\n",
        "plot_pacf(df[\"value\"], ax = ax)\n",
        "plt.show();"
      ],
      "metadata": {
        "id": "HwDy_2O_sDcs"
      },
      "execution_count": null,
      "outputs": []
    },
    {
      "cell_type": "markdown",
      "source": [
        "Wow, we only have one significant lag that we can use as seen in our pacf plot.One lag can be used as the rest are scientifically insignificant\n"
      ],
      "metadata": {
        "id": "ck0b-s5swBKM"
      }
    },
    {
      "cell_type": "code",
      "source": [
        "# vertical\n",
        "target = \"value\"\n",
        "y = df[target]\n",
        "cutoff = int(len(y) * 0.8)\n",
        "cutoff"
      ],
      "metadata": {
        "id": "dAtlVoHmyEYz"
      },
      "execution_count": null,
      "outputs": []
    },
    {
      "cell_type": "code",
      "source": [
        "# y_train, y_test split\n",
        "y_train, y_test = y.iloc[:cutoff],y.iloc[cutoff:]\n",
        "len(y_train) + len(y_test) == len(y)\n",
        "y_train.head()"
      ],
      "metadata": {
        "id": "7G6FZjsuwUOO"
      },
      "execution_count": null,
      "outputs": []
    },
    {
      "cell_type": "code",
      "source": [
        "# model iterate and fitting\n",
        "model = AutoReg(y_train, lags = 1).fit()"
      ],
      "metadata": {
        "id": "cg9herqTzjey"
      },
      "execution_count": null,
      "outputs": []
    },
    {
      "cell_type": "code",
      "source": [
        "# training predictions\n",
        "y_pred = model.predict().dropna()\n",
        "y_pred[:3]"
      ],
      "metadata": {
        "id": "tuYpqWMv2RAr"
      },
      "execution_count": null,
      "outputs": []
    },
    {
      "cell_type": "code",
      "source": [
        "# calculating residuals\n",
        "y_train_resid = model.resid\n",
        "y_train_resid.head()"
      ],
      "metadata": {
        "id": "PT_jO3nk28qp"
      },
      "execution_count": null,
      "outputs": []
    },
    {
      "cell_type": "code",
      "source": [
        "# plotting\n",
        "fig, ax = plt.subplots(figsize = (15,6))\n",
        "y_train_resid.plot(ax = ax)\n",
        "plt.title(\"AR timeseries predictions Vs. Residuals\")\n",
        "plt.ylabel(\"Residuals\")\n",
        "plt.xlabel(\"Time (t)\")\n",
        "fig.show();"
      ],
      "metadata": {
        "id": "Q1AVdeXX-yW8"
      },
      "execution_count": null,
      "outputs": []
    },
    {
      "cell_type": "code",
      "source": [
        "# a histogram\n",
        "fig, ax = plt.subplots(figsize = (12,6))\n",
        "y_train_resid.hist(ax = ax)\n",
        "plt.title(\"A histogram of the Residuals\")\n",
        "plt.ylabel(\"Frequency\")\n",
        "plt.xlabel(\"Residuals\")\n",
        "plt.show();"
      ],
      "metadata": {
        "id": "zbyV6u5f_T8T"
      },
      "execution_count": null,
      "outputs": []
    },
    {
      "cell_type": "code",
      "source": [
        "# model evaluation\n",
        "y_pred_test = model.predict(y_test.index.min(),\n",
        "                            y_test.index.max())\n",
        "y_pred_test_align = y_pred_test.loc[y_test.index]\n",
        "print(\"aligned predictions are: \",y_pred_test_align)\n",
        "print(\"test data are: \", y_test)\n",
        "test_mae = mean_absolute_error(y_test, y_pred_test_align)\n",
        "print(f\"The mean absolute error is: {test_mae}\")"
      ],
      "metadata": {
        "id": "3Vu37TLy_t6i"
      },
      "execution_count": null,
      "outputs": []
    },
    {
      "cell_type": "code",
      "source": [
        "df_pred_test = pd.DataFrame(\n",
        "    {\"y_test\": y_test, \"y_pred\": y_pred_test_align}, index=y_test.index\n",
        ")\n",
        "df_pred_test.head()"
      ],
      "metadata": {
        "id": "eFyF13RgHzQ3"
      },
      "execution_count": null,
      "outputs": []
    },
    {
      "cell_type": "code",
      "source": [
        "fig, ax = plt.subplots(figsize = (15,6))\n",
        "df_pred_test[\"y_test\"].plot(label = \"y_test\",ax = ax)\n",
        "df_pred_test[\"y_pred\"].plot(label = \"y_pred\",ax = ax)\n",
        "plt.ylabel(\"P2 values\")\n",
        "plt.xlabel(\"time (t)\")\n",
        "plt.title(\"Test predictin line graphs\")\n",
        "plt.legend();"
      ],
      "metadata": {
        "id": "ywDvmkIyepmc"
      },
      "execution_count": null,
      "outputs": []
    },
    {
      "cell_type": "code",
      "source": [
        "%%capture\n",
        "# walk-forward validation\n",
        "y_pred_wfv = pd.Series()\n",
        "history = y_train.copy()\n",
        "for i in range(len(y_test)):\n",
        "    # buid model\n",
        "    model = AutoReg(history, lags = 1).fit()\n",
        "    # next prediction\n",
        "    next_pred = model.forecast()\n",
        "    y_pred_wfv = y_pred_wfv.append(next_pred)\n",
        "    history = history.append(y_test)"
      ],
      "metadata": {
        "id": "a9h_y2hkJ-nh"
      },
      "execution_count": null,
      "outputs": []
    },
    {
      "cell_type": "code",
      "source": [
        "y_pred = y_pred_wfv.values\n",
        "y_series = pd.Series(y_pred)\n",
        "dic = {\n",
        "    \"timestamp\":y_test.index,\n",
        "    \"y_test\":y_test.values,\n",
        "    \"y_pred\":y_series\n",
        "\n",
        "}\n",
        "df_pred = pd.DataFrame(dic)\n",
        "df_pred.set_index(\"timestamp\")\n",
        "df_pred"
      ],
      "metadata": {
        "id": "aQebfn9Sl4TS"
      },
      "execution_count": null,
      "outputs": []
    },
    {
      "cell_type": "code",
      "source": [
        "test_mae = mean_absolute_error(df_pred[\"y_test\"],\n",
        "                               df_pred[\"y_pred\"])\n",
        "print(\"Test MAE (walk forward validation):\", round(test_mae, 2))"
      ],
      "metadata": {
        "id": "LNtyswTCizo-"
      },
      "execution_count": null,
      "outputs": []
    },
    {
      "cell_type": "code",
      "source": [
        "fig, ax = plt.subplots(figsize = (15,6))\n",
        "df_pred[\"y_pred\"].plot(ax = ax);"
      ],
      "metadata": {
        "id": "XurohyIijKqj"
      },
      "execution_count": null,
      "outputs": []
    },
    {
      "cell_type": "code",
      "source": [],
      "metadata": {
        "id": "XIWpCqCDrwFd"
      },
      "execution_count": null,
      "outputs": []
    }
  ]
}