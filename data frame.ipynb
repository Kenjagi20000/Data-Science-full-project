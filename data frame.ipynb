{
  "metadata": {
    "language_info": {
      "codemirror_mode": {
        "name": "python",
        "version": 3
      },
      "file_extension": ".py",
      "mimetype": "text/x-python",
      "name": "python",
      "nbconvert_exporter": "python",
      "pygments_lexer": "ipython3",
      "version": "3.8"
    },
    "kernelspec": {
      "name": "python",
      "display_name": "Python (Pyodide)",
      "language": "python"
    }
  },
  "nbformat_minor": 4,
  "nbformat": 4,
  "cells": [
    {
      "cell_type": "raw",
      "source": "1. Data loading.\nHere we have a json file to load named data1.",
      "metadata": {}
    },
    {
      "cell_type": "code",
      "source": "import pandas as pd\nimport json",
      "metadata": {
        "trusted": true
      },
      "execution_count": 2,
      "outputs": []
    },
    {
      "cell_type": "code",
      "source": "import json\nimport pandas as pd\nwith open(\"data/data1.json\", \"r\") as data1:\n    data2 = json.load(data1)\ndf1 = pd.DataFrame.from_dict(data2)",
      "metadata": {
        "trusted": true
      },
      "execution_count": 3,
      "outputs": []
    },
    {
      "cell_type": "code",
      "source": "df1.head()",
      "metadata": {
        "trusted": true
      },
      "execution_count": 4,
      "outputs": [
        {
          "execution_count": 4,
          "output_type": "execute_result",
          "data": {
            "text/plain": "  STATE zipcode agi_stub   mars1   MARS2   MARS4  NUMDEP    A00100 A02300  \\\n0    AL       0        1  481840  115070  240450  548630  11004990  97553   \n1    AL       0        2  200750  150290  125560  375670  17658446  52682   \n2    AL       0        3   75820  142970   34070  186770  15963943  27490   \n3    AL       0        4   26730  125410   10390  133020  14294375  16508   \n4    AL       0        5   18990  177070    5860  185150  27387096  17488   \n\n    A02500  A18300    A04800  \n0    64407   72527   1830923  \n1   560917  240950   8618302  \n2   882812  329474  10205184  \n3   793454  361954  10045399  \n4  1038902  982577  21014718  ",
            "text/html": "<div>\n<style scoped>\n    .dataframe tbody tr th:only-of-type {\n        vertical-align: middle;\n    }\n\n    .dataframe tbody tr th {\n        vertical-align: top;\n    }\n\n    .dataframe thead th {\n        text-align: right;\n    }\n</style>\n<table border=\"1\" class=\"dataframe\">\n  <thead>\n    <tr style=\"text-align: right;\">\n      <th></th>\n      <th>STATE</th>\n      <th>zipcode</th>\n      <th>agi_stub</th>\n      <th>mars1</th>\n      <th>MARS2</th>\n      <th>MARS4</th>\n      <th>NUMDEP</th>\n      <th>A00100</th>\n      <th>A02300</th>\n      <th>A02500</th>\n      <th>A18300</th>\n      <th>A04800</th>\n    </tr>\n  </thead>\n  <tbody>\n    <tr>\n      <th>0</th>\n      <td>AL</td>\n      <td>0</td>\n      <td>1</td>\n      <td>481840</td>\n      <td>115070</td>\n      <td>240450</td>\n      <td>548630</td>\n      <td>11004990</td>\n      <td>97553</td>\n      <td>64407</td>\n      <td>72527</td>\n      <td>1830923</td>\n    </tr>\n    <tr>\n      <th>1</th>\n      <td>AL</td>\n      <td>0</td>\n      <td>2</td>\n      <td>200750</td>\n      <td>150290</td>\n      <td>125560</td>\n      <td>375670</td>\n      <td>17658446</td>\n      <td>52682</td>\n      <td>560917</td>\n      <td>240950</td>\n      <td>8618302</td>\n    </tr>\n    <tr>\n      <th>2</th>\n      <td>AL</td>\n      <td>0</td>\n      <td>3</td>\n      <td>75820</td>\n      <td>142970</td>\n      <td>34070</td>\n      <td>186770</td>\n      <td>15963943</td>\n      <td>27490</td>\n      <td>882812</td>\n      <td>329474</td>\n      <td>10205184</td>\n    </tr>\n    <tr>\n      <th>3</th>\n      <td>AL</td>\n      <td>0</td>\n      <td>4</td>\n      <td>26730</td>\n      <td>125410</td>\n      <td>10390</td>\n      <td>133020</td>\n      <td>14294375</td>\n      <td>16508</td>\n      <td>793454</td>\n      <td>361954</td>\n      <td>10045399</td>\n    </tr>\n    <tr>\n      <th>4</th>\n      <td>AL</td>\n      <td>0</td>\n      <td>5</td>\n      <td>18990</td>\n      <td>177070</td>\n      <td>5860</td>\n      <td>185150</td>\n      <td>27387096</td>\n      <td>17488</td>\n      <td>1038902</td>\n      <td>982577</td>\n      <td>21014718</td>\n    </tr>\n  </tbody>\n</table>\n</div>"
          },
          "metadata": {}
        }
      ]
    },
    {
      "cell_type": "code",
      "source": "df1.info()",
      "metadata": {
        "trusted": true
      },
      "execution_count": 5,
      "outputs": [
        {
          "name": "stdout",
          "text": "<class 'pandas.core.frame.DataFrame'>\nRangeIndex: 166686 entries, 0 to 166685\nData columns (total 12 columns):\n #   Column    Non-Null Count   Dtype \n---  ------    --------------   ----- \n 0   STATE     166686 non-null  object\n 1   zipcode   166686 non-null  object\n 2   agi_stub  166686 non-null  object\n 3   mars1     166686 non-null  object\n 4   MARS2     166686 non-null  object\n 5   MARS4     166686 non-null  object\n 6   NUMDEP    166686 non-null  object\n 7   A00100    166686 non-null  object\n 8   A02300    166686 non-null  object\n 9   A02500    166686 non-null  object\n 10  A18300    166686 non-null  object\n 11  A04800    166686 non-null  object\ndtypes: object(12)\nmemory usage: 7.6+ MB\n",
          "output_type": "stream"
        }
      ]
    },
    {
      "cell_type": "raw",
      "source": "2. Data cleaning\n*all the data value are object and we should change the data type",
      "metadata": {}
    },
    {
      "cell_type": "code",
      "source": "df1.isnull().sum()",
      "metadata": {
        "trusted": true
      },
      "execution_count": 6,
      "outputs": [
        {
          "execution_count": 6,
          "output_type": "execute_result",
          "data": {
            "text/plain": "STATE       0\nzipcode     0\nagi_stub    0\nmars1       0\nMARS2       0\nMARS4       0\nNUMDEP      0\nA00100      0\nA02300      0\nA02500      0\nA18300      0\nA04800      0\ndtype: int64"
          },
          "metadata": {}
        }
      ]
    },
    {
      "cell_type": "raw",
      "source": "\n    State\n    Zip\n    Size of Adjust Gross Income\n    Single Returns\n    Joint Returns\n    Head of Household Returns\n    Number of Dependents\n    Adjusted Gross Income\n    Unemployment Compensation\n    Taxable Social Security Benefits\n    Taxes Paid Amount\n    Taxable Income Amount\n",
      "metadata": {}
    },
    {
      "cell_type": "code",
      "source": "df1.head()",
      "metadata": {
        "trusted": true
      },
      "execution_count": 7,
      "outputs": [
        {
          "execution_count": 7,
          "output_type": "execute_result",
          "data": {
            "text/plain": "  STATE zipcode agi_stub   mars1   MARS2   MARS4  NUMDEP    A00100 A02300  \\\n0    AL       0        1  481840  115070  240450  548630  11004990  97553   \n1    AL       0        2  200750  150290  125560  375670  17658446  52682   \n2    AL       0        3   75820  142970   34070  186770  15963943  27490   \n3    AL       0        4   26730  125410   10390  133020  14294375  16508   \n4    AL       0        5   18990  177070    5860  185150  27387096  17488   \n\n    A02500  A18300    A04800  \n0    64407   72527   1830923  \n1   560917  240950   8618302  \n2   882812  329474  10205184  \n3   793454  361954  10045399  \n4  1038902  982577  21014718  ",
            "text/html": "<div>\n<style scoped>\n    .dataframe tbody tr th:only-of-type {\n        vertical-align: middle;\n    }\n\n    .dataframe tbody tr th {\n        vertical-align: top;\n    }\n\n    .dataframe thead th {\n        text-align: right;\n    }\n</style>\n<table border=\"1\" class=\"dataframe\">\n  <thead>\n    <tr style=\"text-align: right;\">\n      <th></th>\n      <th>STATE</th>\n      <th>zipcode</th>\n      <th>agi_stub</th>\n      <th>mars1</th>\n      <th>MARS2</th>\n      <th>MARS4</th>\n      <th>NUMDEP</th>\n      <th>A00100</th>\n      <th>A02300</th>\n      <th>A02500</th>\n      <th>A18300</th>\n      <th>A04800</th>\n    </tr>\n  </thead>\n  <tbody>\n    <tr>\n      <th>0</th>\n      <td>AL</td>\n      <td>0</td>\n      <td>1</td>\n      <td>481840</td>\n      <td>115070</td>\n      <td>240450</td>\n      <td>548630</td>\n      <td>11004990</td>\n      <td>97553</td>\n      <td>64407</td>\n      <td>72527</td>\n      <td>1830923</td>\n    </tr>\n    <tr>\n      <th>1</th>\n      <td>AL</td>\n      <td>0</td>\n      <td>2</td>\n      <td>200750</td>\n      <td>150290</td>\n      <td>125560</td>\n      <td>375670</td>\n      <td>17658446</td>\n      <td>52682</td>\n      <td>560917</td>\n      <td>240950</td>\n      <td>8618302</td>\n    </tr>\n    <tr>\n      <th>2</th>\n      <td>AL</td>\n      <td>0</td>\n      <td>3</td>\n      <td>75820</td>\n      <td>142970</td>\n      <td>34070</td>\n      <td>186770</td>\n      <td>15963943</td>\n      <td>27490</td>\n      <td>882812</td>\n      <td>329474</td>\n      <td>10205184</td>\n    </tr>\n    <tr>\n      <th>3</th>\n      <td>AL</td>\n      <td>0</td>\n      <td>4</td>\n      <td>26730</td>\n      <td>125410</td>\n      <td>10390</td>\n      <td>133020</td>\n      <td>14294375</td>\n      <td>16508</td>\n      <td>793454</td>\n      <td>361954</td>\n      <td>10045399</td>\n    </tr>\n    <tr>\n      <th>4</th>\n      <td>AL</td>\n      <td>0</td>\n      <td>5</td>\n      <td>18990</td>\n      <td>177070</td>\n      <td>5860</td>\n      <td>185150</td>\n      <td>27387096</td>\n      <td>17488</td>\n      <td>1038902</td>\n      <td>982577</td>\n      <td>21014718</td>\n    </tr>\n  </tbody>\n</table>\n</div>"
          },
          "metadata": {}
        }
      ]
    },
    {
      "cell_type": "raw",
      "source": "let us rename our columns",
      "metadata": {}
    },
    {
      "cell_type": "code",
      "source": "colNames = [\"State\",\"Zipcode\",\"Size of Adjust Gross Income\",\"No of Single Returns\"\n    ,\"No of Joint Returns\",\"No of Head of Household Returns\",\"No of Dependents\"\n    ,\"Adjusted Gross Income\",\"Unemployment Compensation\"\n    ,\"Taxable Social Security Benefits\",\"Taxes Paid Amount\",\"Taxable Income Amount\"\n]",
      "metadata": {
        "trusted": true
      },
      "execution_count": 8,
      "outputs": []
    },
    {
      "cell_type": "code",
      "source": "print(colNames)",
      "metadata": {
        "trusted": true
      },
      "execution_count": 9,
      "outputs": [
        {
          "name": "stdout",
          "text": "['State', 'Zipcode', 'Size of Adjust Gross Income', 'No of Single Returns', 'No of Joint Returns', 'No of Head of Household Returns', 'No of Dependents', 'Adjusted Gross Income', 'Unemployment Compensation', 'Taxable Social Security Benefits', 'Taxes Paid Amount', 'Taxable Income Amount']\n",
          "output_type": "stream"
        }
      ]
    },
    {
      "cell_type": "code",
      "source": "df1.columns = colNames",
      "metadata": {
        "trusted": true
      },
      "execution_count": 10,
      "outputs": []
    },
    {
      "cell_type": "code",
      "source": "df1.head()",
      "metadata": {
        "trusted": true
      },
      "execution_count": 11,
      "outputs": [
        {
          "execution_count": 11,
          "output_type": "execute_result",
          "data": {
            "text/plain": "  State Zipcode Size of Adjust Gross Income No of Single Returns  \\\n0    AL       0                           1               481840   \n1    AL       0                           2               200750   \n2    AL       0                           3                75820   \n3    AL       0                           4                26730   \n4    AL       0                           5                18990   \n\n  No of Joint Returns No of Head of Household Returns No of Dependents  \\\n0              115070                          240450           548630   \n1              150290                          125560           375670   \n2              142970                           34070           186770   \n3              125410                           10390           133020   \n4              177070                            5860           185150   \n\n  Adjusted Gross Income Unemployment Compensation  \\\n0              11004990                     97553   \n1              17658446                     52682   \n2              15963943                     27490   \n3              14294375                     16508   \n4              27387096                     17488   \n\n  Taxable Social Security Benefits Taxes Paid Amount Taxable Income Amount  \n0                            64407             72527               1830923  \n1                           560917            240950               8618302  \n2                           882812            329474              10205184  \n3                           793454            361954              10045399  \n4                          1038902            982577              21014718  ",
            "text/html": "<div>\n<style scoped>\n    .dataframe tbody tr th:only-of-type {\n        vertical-align: middle;\n    }\n\n    .dataframe tbody tr th {\n        vertical-align: top;\n    }\n\n    .dataframe thead th {\n        text-align: right;\n    }\n</style>\n<table border=\"1\" class=\"dataframe\">\n  <thead>\n    <tr style=\"text-align: right;\">\n      <th></th>\n      <th>State</th>\n      <th>Zipcode</th>\n      <th>Size of Adjust Gross Income</th>\n      <th>No of Single Returns</th>\n      <th>No of Joint Returns</th>\n      <th>No of Head of Household Returns</th>\n      <th>No of Dependents</th>\n      <th>Adjusted Gross Income</th>\n      <th>Unemployment Compensation</th>\n      <th>Taxable Social Security Benefits</th>\n      <th>Taxes Paid Amount</th>\n      <th>Taxable Income Amount</th>\n    </tr>\n  </thead>\n  <tbody>\n    <tr>\n      <th>0</th>\n      <td>AL</td>\n      <td>0</td>\n      <td>1</td>\n      <td>481840</td>\n      <td>115070</td>\n      <td>240450</td>\n      <td>548630</td>\n      <td>11004990</td>\n      <td>97553</td>\n      <td>64407</td>\n      <td>72527</td>\n      <td>1830923</td>\n    </tr>\n    <tr>\n      <th>1</th>\n      <td>AL</td>\n      <td>0</td>\n      <td>2</td>\n      <td>200750</td>\n      <td>150290</td>\n      <td>125560</td>\n      <td>375670</td>\n      <td>17658446</td>\n      <td>52682</td>\n      <td>560917</td>\n      <td>240950</td>\n      <td>8618302</td>\n    </tr>\n    <tr>\n      <th>2</th>\n      <td>AL</td>\n      <td>0</td>\n      <td>3</td>\n      <td>75820</td>\n      <td>142970</td>\n      <td>34070</td>\n      <td>186770</td>\n      <td>15963943</td>\n      <td>27490</td>\n      <td>882812</td>\n      <td>329474</td>\n      <td>10205184</td>\n    </tr>\n    <tr>\n      <th>3</th>\n      <td>AL</td>\n      <td>0</td>\n      <td>4</td>\n      <td>26730</td>\n      <td>125410</td>\n      <td>10390</td>\n      <td>133020</td>\n      <td>14294375</td>\n      <td>16508</td>\n      <td>793454</td>\n      <td>361954</td>\n      <td>10045399</td>\n    </tr>\n    <tr>\n      <th>4</th>\n      <td>AL</td>\n      <td>0</td>\n      <td>5</td>\n      <td>18990</td>\n      <td>177070</td>\n      <td>5860</td>\n      <td>185150</td>\n      <td>27387096</td>\n      <td>17488</td>\n      <td>1038902</td>\n      <td>982577</td>\n      <td>21014718</td>\n    </tr>\n  </tbody>\n</table>\n</div>"
          },
          "metadata": {}
        }
      ]
    },
    {
      "cell_type": "raw",
      "source": "Now we have a better looking data frame that is easy to understand",
      "metadata": {}
    },
    {
      "cell_type": "code",
      "source": "# let us see if there is any `NaN` values\ndf1.isnull().sum()",
      "metadata": {
        "trusted": true
      },
      "execution_count": 12,
      "outputs": [
        {
          "execution_count": 12,
          "output_type": "execute_result",
          "data": {
            "text/plain": "State                               0\nZipcode                             0\nSize of Adjust Gross Income         0\nNo of Single Returns                0\nNo of Joint Returns                 0\nNo of Head of Household Returns     0\nNo of Dependents                    0\nAdjusted Gross Income               0\nUnemployment Compensation           0\nTaxable Social Security Benefits    0\nTaxes Paid Amount                   0\nTaxable Income Amount               0\ndtype: int64"
          },
          "metadata": {}
        }
      ]
    },
    {
      "cell_type": "code",
      "source": "# now let us group by state\ndf1.groupby(\"State\")",
      "metadata": {
        "trusted": true
      },
      "execution_count": 13,
      "outputs": [
        {
          "execution_count": 13,
          "output_type": "execute_result",
          "data": {
            "text/plain": "<pandas.core.groupby.generic.DataFrameGroupBy object at 0x2324660>"
          },
          "metadata": {}
        }
      ]
    },
    {
      "cell_type": "code",
      "source": "df1[\"State\"].head(-100)",
      "metadata": {
        "trusted": true
      },
      "execution_count": 14,
      "outputs": [
        {
          "execution_count": 14,
          "output_type": "execute_result",
          "data": {
            "text/plain": "0         AL\n1         AL\n2         AL\n3         AL\n4         AL\n          ..\n166581    WY\n166582    WY\n166583    WY\n166584    WY\n166585    WY\nName: State, Length: 166586, dtype: object"
          },
          "metadata": {}
        }
      ]
    },
    {
      "cell_type": "code",
      "source": "# now that we have done a nice grouping let us make the indexing to be for state\ndf1.set_index(\"State\", inplace = True)",
      "metadata": {
        "trusted": true
      },
      "execution_count": 15,
      "outputs": []
    },
    {
      "cell_type": "code",
      "source": "df1.head()",
      "metadata": {
        "trusted": true
      },
      "execution_count": 16,
      "outputs": [
        {
          "execution_count": 16,
          "output_type": "execute_result",
          "data": {
            "text/plain": "      Zipcode Size of Adjust Gross Income No of Single Returns  \\\nState                                                            \nAL          0                           1               481840   \nAL          0                           2               200750   \nAL          0                           3                75820   \nAL          0                           4                26730   \nAL          0                           5                18990   \n\n      No of Joint Returns No of Head of Household Returns No of Dependents  \\\nState                                                                        \nAL                 115070                          240450           548630   \nAL                 150290                          125560           375670   \nAL                 142970                           34070           186770   \nAL                 125410                           10390           133020   \nAL                 177070                            5860           185150   \n\n      Adjusted Gross Income Unemployment Compensation  \\\nState                                                   \nAL                 11004990                     97553   \nAL                 17658446                     52682   \nAL                 15963943                     27490   \nAL                 14294375                     16508   \nAL                 27387096                     17488   \n\n      Taxable Social Security Benefits Taxes Paid Amount Taxable Income Amount  \nState                                                                           \nAL                               64407             72527               1830923  \nAL                              560917            240950               8618302  \nAL                              882812            329474              10205184  \nAL                              793454            361954              10045399  \nAL                             1038902            982577              21014718  ",
            "text/html": "<div>\n<style scoped>\n    .dataframe tbody tr th:only-of-type {\n        vertical-align: middle;\n    }\n\n    .dataframe tbody tr th {\n        vertical-align: top;\n    }\n\n    .dataframe thead th {\n        text-align: right;\n    }\n</style>\n<table border=\"1\" class=\"dataframe\">\n  <thead>\n    <tr style=\"text-align: right;\">\n      <th></th>\n      <th>Zipcode</th>\n      <th>Size of Adjust Gross Income</th>\n      <th>No of Single Returns</th>\n      <th>No of Joint Returns</th>\n      <th>No of Head of Household Returns</th>\n      <th>No of Dependents</th>\n      <th>Adjusted Gross Income</th>\n      <th>Unemployment Compensation</th>\n      <th>Taxable Social Security Benefits</th>\n      <th>Taxes Paid Amount</th>\n      <th>Taxable Income Amount</th>\n    </tr>\n    <tr>\n      <th>State</th>\n      <th></th>\n      <th></th>\n      <th></th>\n      <th></th>\n      <th></th>\n      <th></th>\n      <th></th>\n      <th></th>\n      <th></th>\n      <th></th>\n      <th></th>\n    </tr>\n  </thead>\n  <tbody>\n    <tr>\n      <th>AL</th>\n      <td>0</td>\n      <td>1</td>\n      <td>481840</td>\n      <td>115070</td>\n      <td>240450</td>\n      <td>548630</td>\n      <td>11004990</td>\n      <td>97553</td>\n      <td>64407</td>\n      <td>72527</td>\n      <td>1830923</td>\n    </tr>\n    <tr>\n      <th>AL</th>\n      <td>0</td>\n      <td>2</td>\n      <td>200750</td>\n      <td>150290</td>\n      <td>125560</td>\n      <td>375670</td>\n      <td>17658446</td>\n      <td>52682</td>\n      <td>560917</td>\n      <td>240950</td>\n      <td>8618302</td>\n    </tr>\n    <tr>\n      <th>AL</th>\n      <td>0</td>\n      <td>3</td>\n      <td>75820</td>\n      <td>142970</td>\n      <td>34070</td>\n      <td>186770</td>\n      <td>15963943</td>\n      <td>27490</td>\n      <td>882812</td>\n      <td>329474</td>\n      <td>10205184</td>\n    </tr>\n    <tr>\n      <th>AL</th>\n      <td>0</td>\n      <td>4</td>\n      <td>26730</td>\n      <td>125410</td>\n      <td>10390</td>\n      <td>133020</td>\n      <td>14294375</td>\n      <td>16508</td>\n      <td>793454</td>\n      <td>361954</td>\n      <td>10045399</td>\n    </tr>\n    <tr>\n      <th>AL</th>\n      <td>0</td>\n      <td>5</td>\n      <td>18990</td>\n      <td>177070</td>\n      <td>5860</td>\n      <td>185150</td>\n      <td>27387096</td>\n      <td>17488</td>\n      <td>1038902</td>\n      <td>982577</td>\n      <td>21014718</td>\n    </tr>\n  </tbody>\n</table>\n</div>"
          },
          "metadata": {}
        }
      ]
    },
    {
      "cell_type": "code",
      "source": "df1.head()",
      "metadata": {
        "trusted": true
      },
      "execution_count": 17,
      "outputs": [
        {
          "execution_count": 17,
          "output_type": "execute_result",
          "data": {
            "text/plain": "      Zipcode Size of Adjust Gross Income No of Single Returns  \\\nState                                                            \nAL          0                           1               481840   \nAL          0                           2               200750   \nAL          0                           3                75820   \nAL          0                           4                26730   \nAL          0                           5                18990   \n\n      No of Joint Returns No of Head of Household Returns No of Dependents  \\\nState                                                                        \nAL                 115070                          240450           548630   \nAL                 150290                          125560           375670   \nAL                 142970                           34070           186770   \nAL                 125410                           10390           133020   \nAL                 177070                            5860           185150   \n\n      Adjusted Gross Income Unemployment Compensation  \\\nState                                                   \nAL                 11004990                     97553   \nAL                 17658446                     52682   \nAL                 15963943                     27490   \nAL                 14294375                     16508   \nAL                 27387096                     17488   \n\n      Taxable Social Security Benefits Taxes Paid Amount Taxable Income Amount  \nState                                                                           \nAL                               64407             72527               1830923  \nAL                              560917            240950               8618302  \nAL                              882812            329474              10205184  \nAL                              793454            361954              10045399  \nAL                             1038902            982577              21014718  ",
            "text/html": "<div>\n<style scoped>\n    .dataframe tbody tr th:only-of-type {\n        vertical-align: middle;\n    }\n\n    .dataframe tbody tr th {\n        vertical-align: top;\n    }\n\n    .dataframe thead th {\n        text-align: right;\n    }\n</style>\n<table border=\"1\" class=\"dataframe\">\n  <thead>\n    <tr style=\"text-align: right;\">\n      <th></th>\n      <th>Zipcode</th>\n      <th>Size of Adjust Gross Income</th>\n      <th>No of Single Returns</th>\n      <th>No of Joint Returns</th>\n      <th>No of Head of Household Returns</th>\n      <th>No of Dependents</th>\n      <th>Adjusted Gross Income</th>\n      <th>Unemployment Compensation</th>\n      <th>Taxable Social Security Benefits</th>\n      <th>Taxes Paid Amount</th>\n      <th>Taxable Income Amount</th>\n    </tr>\n    <tr>\n      <th>State</th>\n      <th></th>\n      <th></th>\n      <th></th>\n      <th></th>\n      <th></th>\n      <th></th>\n      <th></th>\n      <th></th>\n      <th></th>\n      <th></th>\n      <th></th>\n    </tr>\n  </thead>\n  <tbody>\n    <tr>\n      <th>AL</th>\n      <td>0</td>\n      <td>1</td>\n      <td>481840</td>\n      <td>115070</td>\n      <td>240450</td>\n      <td>548630</td>\n      <td>11004990</td>\n      <td>97553</td>\n      <td>64407</td>\n      <td>72527</td>\n      <td>1830923</td>\n    </tr>\n    <tr>\n      <th>AL</th>\n      <td>0</td>\n      <td>2</td>\n      <td>200750</td>\n      <td>150290</td>\n      <td>125560</td>\n      <td>375670</td>\n      <td>17658446</td>\n      <td>52682</td>\n      <td>560917</td>\n      <td>240950</td>\n      <td>8618302</td>\n    </tr>\n    <tr>\n      <th>AL</th>\n      <td>0</td>\n      <td>3</td>\n      <td>75820</td>\n      <td>142970</td>\n      <td>34070</td>\n      <td>186770</td>\n      <td>15963943</td>\n      <td>27490</td>\n      <td>882812</td>\n      <td>329474</td>\n      <td>10205184</td>\n    </tr>\n    <tr>\n      <th>AL</th>\n      <td>0</td>\n      <td>4</td>\n      <td>26730</td>\n      <td>125410</td>\n      <td>10390</td>\n      <td>133020</td>\n      <td>14294375</td>\n      <td>16508</td>\n      <td>793454</td>\n      <td>361954</td>\n      <td>10045399</td>\n    </tr>\n    <tr>\n      <th>AL</th>\n      <td>0</td>\n      <td>5</td>\n      <td>18990</td>\n      <td>177070</td>\n      <td>5860</td>\n      <td>185150</td>\n      <td>27387096</td>\n      <td>17488</td>\n      <td>1038902</td>\n      <td>982577</td>\n      <td>21014718</td>\n    </tr>\n  </tbody>\n</table>\n</div>"
          },
          "metadata": {}
        }
      ]
    },
    {
      "cell_type": "code",
      "source": "df1.info()",
      "metadata": {
        "trusted": true
      },
      "execution_count": 18,
      "outputs": [
        {
          "name": "stdout",
          "text": "<class 'pandas.core.frame.DataFrame'>\nIndex: 166686 entries, AL to WY\nData columns (total 11 columns):\n #   Column                            Non-Null Count   Dtype \n---  ------                            --------------   ----- \n 0   Zipcode                           166686 non-null  object\n 1   Size of Adjust Gross Income       166686 non-null  object\n 2   No of Single Returns              166686 non-null  object\n 3   No of Joint Returns               166686 non-null  object\n 4   No of Head of Household Returns   166686 non-null  object\n 5   No of Dependents                  166686 non-null  object\n 6   Adjusted Gross Income             166686 non-null  object\n 7   Unemployment Compensation         166686 non-null  object\n 8   Taxable Social Security Benefits  166686 non-null  object\n 9   Taxes Paid Amount                 166686 non-null  object\n 10  Taxable Income Amount             166686 non-null  object\ndtypes: object(11)\nmemory usage: 7.6+ MB\n",
          "output_type": "stream"
        }
      ]
    },
    {
      "cell_type": "raw",
      "source": "We now want to make numerical value as float data types",
      "metadata": {}
    },
    {
      "cell_type": "code",
      "source": "type(df1[\"Size of Adjust Gross Income\"])",
      "metadata": {
        "trusted": true
      },
      "execution_count": 19,
      "outputs": [
        {
          "execution_count": 19,
          "output_type": "execute_result",
          "data": {
            "text/plain": "pandas.core.series.Series"
          },
          "metadata": {}
        }
      ]
    },
    {
      "cell_type": "code",
      "source": "df1[\"Size of Adjust Gross Income\"] = df1[\"Size of Adjust Gross Income\"].astype(int)\ndf1.info()",
      "metadata": {
        "trusted": true
      },
      "execution_count": 20,
      "outputs": [
        {
          "name": "stdout",
          "text": "<class 'pandas.core.frame.DataFrame'>\nIndex: 166686 entries, AL to WY\nData columns (total 11 columns):\n #   Column                            Non-Null Count   Dtype \n---  ------                            --------------   ----- \n 0   Zipcode                           166686 non-null  object\n 1   Size of Adjust Gross Income       166686 non-null  int32 \n 2   No of Single Returns              166686 non-null  object\n 3   No of Joint Returns               166686 non-null  object\n 4   No of Head of Household Returns   166686 non-null  object\n 5   No of Dependents                  166686 non-null  object\n 6   Adjusted Gross Income             166686 non-null  object\n 7   Unemployment Compensation         166686 non-null  object\n 8   Taxable Social Security Benefits  166686 non-null  object\n 9   Taxes Paid Amount                 166686 non-null  object\n 10  Taxable Income Amount             166686 non-null  object\ndtypes: int32(1), object(10)\nmemory usage: 7.6+ MB\n",
          "output_type": "stream"
        }
      ]
    },
    {
      "cell_type": "code",
      "source": "df1[\"No of Single Returns\"].head()",
      "metadata": {
        "trusted": true
      },
      "execution_count": 21,
      "outputs": [
        {
          "execution_count": 21,
          "output_type": "execute_result",
          "data": {
            "text/plain": "State\nAL    481840\nAL    200750\nAL     75820\nAL     26730\nAL     18990\nName: No of Single Returns, dtype: object"
          },
          "metadata": {}
        }
      ]
    },
    {
      "cell_type": "code",
      "source": "df1.head()",
      "metadata": {
        "trusted": true
      },
      "execution_count": 22,
      "outputs": [
        {
          "execution_count": 22,
          "output_type": "execute_result",
          "data": {
            "text/plain": "      Zipcode  Size of Adjust Gross Income No of Single Returns  \\\nState                                                             \nAL          0                            1               481840   \nAL          0                            2               200750   \nAL          0                            3                75820   \nAL          0                            4                26730   \nAL          0                            5                18990   \n\n      No of Joint Returns No of Head of Household Returns No of Dependents  \\\nState                                                                        \nAL                 115070                          240450           548630   \nAL                 150290                          125560           375670   \nAL                 142970                           34070           186770   \nAL                 125410                           10390           133020   \nAL                 177070                            5860           185150   \n\n      Adjusted Gross Income Unemployment Compensation  \\\nState                                                   \nAL                 11004990                     97553   \nAL                 17658446                     52682   \nAL                 15963943                     27490   \nAL                 14294375                     16508   \nAL                 27387096                     17488   \n\n      Taxable Social Security Benefits Taxes Paid Amount Taxable Income Amount  \nState                                                                           \nAL                               64407             72527               1830923  \nAL                              560917            240950               8618302  \nAL                              882812            329474              10205184  \nAL                              793454            361954              10045399  \nAL                             1038902            982577              21014718  ",
            "text/html": "<div>\n<style scoped>\n    .dataframe tbody tr th:only-of-type {\n        vertical-align: middle;\n    }\n\n    .dataframe tbody tr th {\n        vertical-align: top;\n    }\n\n    .dataframe thead th {\n        text-align: right;\n    }\n</style>\n<table border=\"1\" class=\"dataframe\">\n  <thead>\n    <tr style=\"text-align: right;\">\n      <th></th>\n      <th>Zipcode</th>\n      <th>Size of Adjust Gross Income</th>\n      <th>No of Single Returns</th>\n      <th>No of Joint Returns</th>\n      <th>No of Head of Household Returns</th>\n      <th>No of Dependents</th>\n      <th>Adjusted Gross Income</th>\n      <th>Unemployment Compensation</th>\n      <th>Taxable Social Security Benefits</th>\n      <th>Taxes Paid Amount</th>\n      <th>Taxable Income Amount</th>\n    </tr>\n    <tr>\n      <th>State</th>\n      <th></th>\n      <th></th>\n      <th></th>\n      <th></th>\n      <th></th>\n      <th></th>\n      <th></th>\n      <th></th>\n      <th></th>\n      <th></th>\n      <th></th>\n    </tr>\n  </thead>\n  <tbody>\n    <tr>\n      <th>AL</th>\n      <td>0</td>\n      <td>1</td>\n      <td>481840</td>\n      <td>115070</td>\n      <td>240450</td>\n      <td>548630</td>\n      <td>11004990</td>\n      <td>97553</td>\n      <td>64407</td>\n      <td>72527</td>\n      <td>1830923</td>\n    </tr>\n    <tr>\n      <th>AL</th>\n      <td>0</td>\n      <td>2</td>\n      <td>200750</td>\n      <td>150290</td>\n      <td>125560</td>\n      <td>375670</td>\n      <td>17658446</td>\n      <td>52682</td>\n      <td>560917</td>\n      <td>240950</td>\n      <td>8618302</td>\n    </tr>\n    <tr>\n      <th>AL</th>\n      <td>0</td>\n      <td>3</td>\n      <td>75820</td>\n      <td>142970</td>\n      <td>34070</td>\n      <td>186770</td>\n      <td>15963943</td>\n      <td>27490</td>\n      <td>882812</td>\n      <td>329474</td>\n      <td>10205184</td>\n    </tr>\n    <tr>\n      <th>AL</th>\n      <td>0</td>\n      <td>4</td>\n      <td>26730</td>\n      <td>125410</td>\n      <td>10390</td>\n      <td>133020</td>\n      <td>14294375</td>\n      <td>16508</td>\n      <td>793454</td>\n      <td>361954</td>\n      <td>10045399</td>\n    </tr>\n    <tr>\n      <th>AL</th>\n      <td>0</td>\n      <td>5</td>\n      <td>18990</td>\n      <td>177070</td>\n      <td>5860</td>\n      <td>185150</td>\n      <td>27387096</td>\n      <td>17488</td>\n      <td>1038902</td>\n      <td>982577</td>\n      <td>21014718</td>\n    </tr>\n  </tbody>\n</table>\n</div>"
          },
          "metadata": {}
        }
      ]
    },
    {
      "cell_type": "code",
      "source": "df1.info()",
      "metadata": {
        "trusted": true
      },
      "execution_count": 23,
      "outputs": [
        {
          "name": "stdout",
          "text": "<class 'pandas.core.frame.DataFrame'>\nIndex: 166686 entries, AL to WY\nData columns (total 11 columns):\n #   Column                            Non-Null Count   Dtype \n---  ------                            --------------   ----- \n 0   Zipcode                           166686 non-null  object\n 1   Size of Adjust Gross Income       166686 non-null  int32 \n 2   No of Single Returns              166686 non-null  object\n 3   No of Joint Returns               166686 non-null  object\n 4   No of Head of Household Returns   166686 non-null  object\n 5   No of Dependents                  166686 non-null  object\n 6   Adjusted Gross Income             166686 non-null  object\n 7   Unemployment Compensation         166686 non-null  object\n 8   Taxable Social Security Benefits  166686 non-null  object\n 9   Taxes Paid Amount                 166686 non-null  object\n 10  Taxable Income Amount             166686 non-null  object\ndtypes: int32(1), object(10)\nmemory usage: 7.6+ MB\n",
          "output_type": "stream"
        }
      ]
    },
    {
      "cell_type": "code",
      "source": "df1[[\"No of Single Returns\", \"No of Joint Returns\" ]] = df1[[\"No of Single Returns\", \"No of Joint Returns\" ]].astype(int)",
      "metadata": {
        "trusted": true
      },
      "execution_count": 24,
      "outputs": []
    },
    {
      "cell_type": "code",
      "source": "df1.info()",
      "metadata": {
        "trusted": true
      },
      "execution_count": 25,
      "outputs": [
        {
          "name": "stdout",
          "text": "<class 'pandas.core.frame.DataFrame'>\nIndex: 166686 entries, AL to WY\nData columns (total 11 columns):\n #   Column                            Non-Null Count   Dtype \n---  ------                            --------------   ----- \n 0   Zipcode                           166686 non-null  object\n 1   Size of Adjust Gross Income       166686 non-null  int32 \n 2   No of Single Returns              166686 non-null  int32 \n 3   No of Joint Returns               166686 non-null  int32 \n 4   No of Head of Household Returns   166686 non-null  object\n 5   No of Dependents                  166686 non-null  object\n 6   Adjusted Gross Income             166686 non-null  object\n 7   Unemployment Compensation         166686 non-null  object\n 8   Taxable Social Security Benefits  166686 non-null  object\n 9   Taxes Paid Amount                 166686 non-null  object\n 10  Taxable Income Amount             166686 non-null  object\ndtypes: int32(3), object(8)\nmemory usage: 7.6+ MB\n",
          "output_type": "stream"
        }
      ]
    },
    {
      "cell_type": "code",
      "source": "df1[[\"No of Head of Household Returns\", \"No of Dependents\", \"Adjusted Gross Income\",\n         \"Unemployment Compensation\", \"Taxable Social Security Benefits\", \"Taxes Paid Amount\",\n         \"Taxable Income Amount\"]] = df1[[\"No of Head of Household Returns\", \"No of Dependents\", \"Adjusted Gross Income\",\n         \"Unemployment Compensation\", \"Taxable Social Security Benefits\", \"Taxes Paid Amount\",\n         \"Taxable Income Amount\"]].astype(int)",
      "metadata": {
        "trusted": true
      },
      "execution_count": 26,
      "outputs": []
    },
    {
      "cell_type": "code",
      "source": "df1.info()",
      "metadata": {
        "trusted": true
      },
      "execution_count": 27,
      "outputs": [
        {
          "name": "stdout",
          "text": "<class 'pandas.core.frame.DataFrame'>\nIndex: 166686 entries, AL to WY\nData columns (total 11 columns):\n #   Column                            Non-Null Count   Dtype \n---  ------                            --------------   ----- \n 0   Zipcode                           166686 non-null  object\n 1   Size of Adjust Gross Income       166686 non-null  int32 \n 2   No of Single Returns              166686 non-null  int32 \n 3   No of Joint Returns               166686 non-null  int32 \n 4   No of Head of Household Returns   166686 non-null  int32 \n 5   No of Dependents                  166686 non-null  int32 \n 6   Adjusted Gross Income             166686 non-null  int32 \n 7   Unemployment Compensation         166686 non-null  int32 \n 8   Taxable Social Security Benefits  166686 non-null  int32 \n 9   Taxes Paid Amount                 166686 non-null  int32 \n 10  Taxable Income Amount             166686 non-null  int32 \ndtypes: int32(10), object(1)\nmemory usage: 7.6+ MB\n",
          "output_type": "stream"
        }
      ]
    },
    {
      "cell_type": "raw",
      "source": "let us do some bit of data analysis for statistics and know how our data frame look like\nthere after we will want to do some visualizations",
      "metadata": {}
    },
    {
      "cell_type": "code",
      "source": "# statistics\ndf1.head()",
      "metadata": {
        "trusted": true
      },
      "execution_count": 28,
      "outputs": [
        {
          "execution_count": 28,
          "output_type": "execute_result",
          "data": {
            "text/plain": "      Zipcode  Size of Adjust Gross Income  No of Single Returns  \\\nState                                                              \nAL          0                            1                481840   \nAL          0                            2                200750   \nAL          0                            3                 75820   \nAL          0                            4                 26730   \nAL          0                            5                 18990   \n\n       No of Joint Returns  No of Head of Household Returns  No of Dependents  \\\nState                                                                           \nAL                  115070                           240450            548630   \nAL                  150290                           125560            375670   \nAL                  142970                            34070            186770   \nAL                  125410                            10390            133020   \nAL                  177070                             5860            185150   \n\n       Adjusted Gross Income  Unemployment Compensation  \\\nState                                                     \nAL                  11004990                      97553   \nAL                  17658446                      52682   \nAL                  15963943                      27490   \nAL                  14294375                      16508   \nAL                  27387096                      17488   \n\n       Taxable Social Security Benefits  Taxes Paid Amount  \\\nState                                                        \nAL                                64407              72527   \nAL                               560917             240950   \nAL                               882812             329474   \nAL                               793454             361954   \nAL                              1038902             982577   \n\n       Taxable Income Amount  \nState                         \nAL                   1830923  \nAL                   8618302  \nAL                  10205184  \nAL                  10045399  \nAL                  21014718  ",
            "text/html": "<div>\n<style scoped>\n    .dataframe tbody tr th:only-of-type {\n        vertical-align: middle;\n    }\n\n    .dataframe tbody tr th {\n        vertical-align: top;\n    }\n\n    .dataframe thead th {\n        text-align: right;\n    }\n</style>\n<table border=\"1\" class=\"dataframe\">\n  <thead>\n    <tr style=\"text-align: right;\">\n      <th></th>\n      <th>Zipcode</th>\n      <th>Size of Adjust Gross Income</th>\n      <th>No of Single Returns</th>\n      <th>No of Joint Returns</th>\n      <th>No of Head of Household Returns</th>\n      <th>No of Dependents</th>\n      <th>Adjusted Gross Income</th>\n      <th>Unemployment Compensation</th>\n      <th>Taxable Social Security Benefits</th>\n      <th>Taxes Paid Amount</th>\n      <th>Taxable Income Amount</th>\n    </tr>\n    <tr>\n      <th>State</th>\n      <th></th>\n      <th></th>\n      <th></th>\n      <th></th>\n      <th></th>\n      <th></th>\n      <th></th>\n      <th></th>\n      <th></th>\n      <th></th>\n      <th></th>\n    </tr>\n  </thead>\n  <tbody>\n    <tr>\n      <th>AL</th>\n      <td>0</td>\n      <td>1</td>\n      <td>481840</td>\n      <td>115070</td>\n      <td>240450</td>\n      <td>548630</td>\n      <td>11004990</td>\n      <td>97553</td>\n      <td>64407</td>\n      <td>72527</td>\n      <td>1830923</td>\n    </tr>\n    <tr>\n      <th>AL</th>\n      <td>0</td>\n      <td>2</td>\n      <td>200750</td>\n      <td>150290</td>\n      <td>125560</td>\n      <td>375670</td>\n      <td>17658446</td>\n      <td>52682</td>\n      <td>560917</td>\n      <td>240950</td>\n      <td>8618302</td>\n    </tr>\n    <tr>\n      <th>AL</th>\n      <td>0</td>\n      <td>3</td>\n      <td>75820</td>\n      <td>142970</td>\n      <td>34070</td>\n      <td>186770</td>\n      <td>15963943</td>\n      <td>27490</td>\n      <td>882812</td>\n      <td>329474</td>\n      <td>10205184</td>\n    </tr>\n    <tr>\n      <th>AL</th>\n      <td>0</td>\n      <td>4</td>\n      <td>26730</td>\n      <td>125410</td>\n      <td>10390</td>\n      <td>133020</td>\n      <td>14294375</td>\n      <td>16508</td>\n      <td>793454</td>\n      <td>361954</td>\n      <td>10045399</td>\n    </tr>\n    <tr>\n      <th>AL</th>\n      <td>0</td>\n      <td>5</td>\n      <td>18990</td>\n      <td>177070</td>\n      <td>5860</td>\n      <td>185150</td>\n      <td>27387096</td>\n      <td>17488</td>\n      <td>1038902</td>\n      <td>982577</td>\n      <td>21014718</td>\n    </tr>\n  </tbody>\n</table>\n</div>"
          },
          "metadata": {}
        }
      ]
    },
    {
      "cell_type": "raw",
      "source": "Today let us work with the Afjust gross income",
      "metadata": {}
    },
    {
      "cell_type": "code",
      "source": "import numpy as np\nfrom scipy import stats\n# now let us fing the means of the data frame\ndf1[\"Adjusted Gross Income\"].head()",
      "metadata": {
        "trusted": true
      },
      "execution_count": 29,
      "outputs": [
        {
          "execution_count": 29,
          "output_type": "execute_result",
          "data": {
            "text/plain": "State\nAL    11004990\nAL    17658446\nAL    15963943\nAL    14294375\nAL    27387096\nName: Adjusted Gross Income, dtype: int32"
          },
          "metadata": {}
        }
      ]
    },
    {
      "cell_type": "code",
      "source": "# mean\nadjmean = df1[\"Adjusted Gross Income\"].mean().round(0)\nadjmean",
      "metadata": {
        "trusted": true
      },
      "execution_count": 30,
      "outputs": [
        {
          "execution_count": 30,
          "output_type": "execute_result",
          "data": {
            "text/plain": "117168.0"
          },
          "metadata": {}
        }
      ]
    },
    {
      "cell_type": "code",
      "source": "# variance\nadjvar = df1[\"Adjusted Gross Income\"].var().round(0)\nadjvar",
      "metadata": {
        "trusted": true
      },
      "execution_count": 31,
      "outputs": [
        {
          "execution_count": 31,
          "output_type": "execute_result",
          "data": {
            "text/plain": "6703653594537.0"
          },
          "metadata": {}
        }
      ]
    },
    {
      "cell_type": "code",
      "source": "# now let see about std deviation.\nimport numpy as np\nadjstd = np.sqrt(adjvar).round(0)\nadjstd",
      "metadata": {
        "trusted": true
      },
      "execution_count": 32,
      "outputs": [
        {
          "execution_count": 32,
          "output_type": "execute_result",
          "data": {
            "text/plain": "2589141.0"
          },
          "metadata": {}
        }
      ]
    },
    {
      "cell_type": "raw",
      "source": "As we can see our mean for the adjusted income is aprox. 117,168\nvariance is aprox. 6,703,653,594,537\nstd is 2,589,141 \nthis show us that there is a large deviation of our data and we might want to compre them with the trimmed value of the same.",
      "metadata": {}
    },
    {
      "cell_type": "code",
      "source": "# now let see about the trimmed value of the same.\nimport numpy as np\nimport pandas as pd\nfrom scipy import stats\n\nadjmean_trimmed = stats.mstats.trimmed_mean(df1[\"Adjusted Gross Income\"]).round(0)\n\nadjvar_trimmed = stats.mstats.trimmed_var(df1[\"Adjusted Gross Income\"]).round(0)\nadjstd_trimmed = np.sqrt(adjvar_trimmed).round(0)",
      "metadata": {
        "trusted": true
      },
      "execution_count": 33,
      "outputs": []
    },
    {
      "cell_type": "code",
      "source": "adjmean_trimmed",
      "metadata": {
        "trusted": true
      },
      "execution_count": 34,
      "outputs": [
        {
          "execution_count": 34,
          "output_type": "execute_result",
          "data": {
            "text/plain": "30147.0"
          },
          "metadata": {}
        }
      ]
    },
    {
      "cell_type": "code",
      "source": "adjvar_trimmed",
      "metadata": {
        "trusted": true
      },
      "execution_count": 35,
      "outputs": [
        {
          "execution_count": 35,
          "output_type": "execute_result",
          "data": {
            "text/plain": "1173847571.0"
          },
          "metadata": {}
        }
      ]
    },
    {
      "cell_type": "code",
      "source": "adjstd_trimmed",
      "metadata": {
        "trusted": true
      },
      "execution_count": 36,
      "outputs": [
        {
          "execution_count": 36,
          "output_type": "execute_result",
          "data": {
            "text/plain": "34261.0"
          },
          "metadata": {}
        }
      ]
    },
    {
      "cell_type": "code",
      "source": "df1.head()",
      "metadata": {
        "trusted": true
      },
      "execution_count": 37,
      "outputs": [
        {
          "execution_count": 37,
          "output_type": "execute_result",
          "data": {
            "text/plain": "      Zipcode  Size of Adjust Gross Income  No of Single Returns  \\\nState                                                              \nAL          0                            1                481840   \nAL          0                            2                200750   \nAL          0                            3                 75820   \nAL          0                            4                 26730   \nAL          0                            5                 18990   \n\n       No of Joint Returns  No of Head of Household Returns  No of Dependents  \\\nState                                                                           \nAL                  115070                           240450            548630   \nAL                  150290                           125560            375670   \nAL                  142970                            34070            186770   \nAL                  125410                            10390            133020   \nAL                  177070                             5860            185150   \n\n       Adjusted Gross Income  Unemployment Compensation  \\\nState                                                     \nAL                  11004990                      97553   \nAL                  17658446                      52682   \nAL                  15963943                      27490   \nAL                  14294375                      16508   \nAL                  27387096                      17488   \n\n       Taxable Social Security Benefits  Taxes Paid Amount  \\\nState                                                        \nAL                                64407              72527   \nAL                               560917             240950   \nAL                               882812             329474   \nAL                               793454             361954   \nAL                              1038902             982577   \n\n       Taxable Income Amount  \nState                         \nAL                   1830923  \nAL                   8618302  \nAL                  10205184  \nAL                  10045399  \nAL                  21014718  ",
            "text/html": "<div>\n<style scoped>\n    .dataframe tbody tr th:only-of-type {\n        vertical-align: middle;\n    }\n\n    .dataframe tbody tr th {\n        vertical-align: top;\n    }\n\n    .dataframe thead th {\n        text-align: right;\n    }\n</style>\n<table border=\"1\" class=\"dataframe\">\n  <thead>\n    <tr style=\"text-align: right;\">\n      <th></th>\n      <th>Zipcode</th>\n      <th>Size of Adjust Gross Income</th>\n      <th>No of Single Returns</th>\n      <th>No of Joint Returns</th>\n      <th>No of Head of Household Returns</th>\n      <th>No of Dependents</th>\n      <th>Adjusted Gross Income</th>\n      <th>Unemployment Compensation</th>\n      <th>Taxable Social Security Benefits</th>\n      <th>Taxes Paid Amount</th>\n      <th>Taxable Income Amount</th>\n    </tr>\n    <tr>\n      <th>State</th>\n      <th></th>\n      <th></th>\n      <th></th>\n      <th></th>\n      <th></th>\n      <th></th>\n      <th></th>\n      <th></th>\n      <th></th>\n      <th></th>\n      <th></th>\n    </tr>\n  </thead>\n  <tbody>\n    <tr>\n      <th>AL</th>\n      <td>0</td>\n      <td>1</td>\n      <td>481840</td>\n      <td>115070</td>\n      <td>240450</td>\n      <td>548630</td>\n      <td>11004990</td>\n      <td>97553</td>\n      <td>64407</td>\n      <td>72527</td>\n      <td>1830923</td>\n    </tr>\n    <tr>\n      <th>AL</th>\n      <td>0</td>\n      <td>2</td>\n      <td>200750</td>\n      <td>150290</td>\n      <td>125560</td>\n      <td>375670</td>\n      <td>17658446</td>\n      <td>52682</td>\n      <td>560917</td>\n      <td>240950</td>\n      <td>8618302</td>\n    </tr>\n    <tr>\n      <th>AL</th>\n      <td>0</td>\n      <td>3</td>\n      <td>75820</td>\n      <td>142970</td>\n      <td>34070</td>\n      <td>186770</td>\n      <td>15963943</td>\n      <td>27490</td>\n      <td>882812</td>\n      <td>329474</td>\n      <td>10205184</td>\n    </tr>\n    <tr>\n      <th>AL</th>\n      <td>0</td>\n      <td>4</td>\n      <td>26730</td>\n      <td>125410</td>\n      <td>10390</td>\n      <td>133020</td>\n      <td>14294375</td>\n      <td>16508</td>\n      <td>793454</td>\n      <td>361954</td>\n      <td>10045399</td>\n    </tr>\n    <tr>\n      <th>AL</th>\n      <td>0</td>\n      <td>5</td>\n      <td>18990</td>\n      <td>177070</td>\n      <td>5860</td>\n      <td>185150</td>\n      <td>27387096</td>\n      <td>17488</td>\n      <td>1038902</td>\n      <td>982577</td>\n      <td>21014718</td>\n    </tr>\n  </tbody>\n</table>\n</div>"
          },
          "metadata": {}
        }
      ]
    },
    {
      "cell_type": "raw",
      "source": "# let us now do some visualization\nwe will have a boxplot, barchart, histogram and scatter plot",
      "metadata": {}
    },
    {
      "cell_type": "code",
      "source": "import matplotlib.pyplot as plt\ndf1size = df1[\"Size of Adjust Gross Income\"]\nplt.boxplot(df1size)\nplt.title(\"A boxplot of the size adjust Gross income\")\nplt.ylabel(\"Size\")\n",
      "metadata": {
        "trusted": true
      },
      "execution_count": 38,
      "outputs": [
        {
          "execution_count": 38,
          "output_type": "execute_result",
          "data": {
            "text/plain": "Text(0, 0.5, 'Size')"
          },
          "metadata": {}
        },
        {
          "output_type": "display_data",
          "data": {
            "text/plain": "<Figure size 640x480 with 1 Axes>",
            "image/png": "[encoded data removed]"
          },
          "metadata": {}
        }
      ]
    },
    {
      "cell_type": "code",
      "source": "plt.hist(df1size, bins = 20, rwidth = 2.5,color = \"blue\")\n",
      "metadata": {
        "trusted": true
      },
      "execution_count": 39,
      "outputs": [
        {
          "execution_count": 39,
          "output_type": "execute_result",
          "data": {
            "text/plain": "(array([27781.,     0.,     0.,     0., 27781.,     0.,     0.,     0.,\n        27781.,     0.,     0.,     0., 27781.,     0.,     0.,     0.,\n        27782.,     0.,     0., 27780.]),\n array([1.  , 1.25, 1.5 , 1.75, 2.  , 2.25, 2.5 , 2.75, 3.  , 3.25, 3.5 ,\n        3.75, 4.  , 4.25, 4.5 , 4.75, 5.  , 5.25, 5.5 , 5.75, 6.  ]),\n <BarContainer object of 20 artists>)"
          },
          "metadata": {}
        },
        {
          "output_type": "display_data",
          "data": {
            "text/plain": "<Figure size 640x480 with 1 Axes>",
            "image/png": "[encoded data removed]"
          },
          "metadata": {}
        }
      ]
    },
    {
      "cell_type": "raw",
      "source": "Now as we can see the size of the adj gross income is between 0 and 1 ",
      "metadata": {}
    },
    {
      "cell_type": "raw",
      "source": "finally let us save the cleaned data set as cleaned data for future use",
      "metadata": {}
    },
    {
      "cell_type": "code",
      "source": "df1.to_csv(\"data/cleaned_data.json\", index = False)",
      "metadata": {
        "trusted": true
      },
      "execution_count": null,
      "outputs": []
    },
    {
      "cell_type": "code",
      "source": "# sctter plot\nplt.scatter(df1size)",
      "metadata": {
        "trusted": true
      },
      "execution_count": null,
      "outputs": []
    }
  ]
}